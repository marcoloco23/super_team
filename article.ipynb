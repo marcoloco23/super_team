{
 "cells": [
  {
   "cell_type": "code",
   "execution_count": 2,
   "metadata": {},
   "outputs": [],
   "source": [
    "import pandas as pd\n",
    "import xgboost as xgb\n",
    "from helpers import get_average_player_performances, get_score_df\n",
    "from simulation import simulate_nba_matchup, simulate_regular_season, simulate_arbitrary_matchup, run_tournament, test_team, get_super_team, nba_trade_finder, build_team_around_player, get_super_team_for_player"
   ]
  },
  {
   "cell_type": "markdown",
   "metadata": {},
   "source": [
    "**Superteam**\n",
    "\n",
    "This project aimed to identify sets of players that collectively form strong basketball teams using machine learning and advanced statistics. Such a tool would allow general managers to make more informed decisions in building their rosters. By collecting a wide variety of individual player and collective team performance data from over 10000 NBA games dating back to 2015, the goal was to identify a mapping from teams' combined player performance data to the outcome of the corresponding game. This mapping then allows for building custom teams by aggregating individual player performances."
   ]
  },
  {
   "cell_type": "markdown",
   "metadata": {},
   "source": [
    "**Assumptions**\n",
    "\n",
    "A team's performance can only be judged relative to another group, and it is crucial to include both competing teams' player performances when predicting the outcome of a game. Moreover, instead of simply mapping to a binary win-loss condition, I used the team's plus-minus score. This score is purely relative and allows the model to pick up on more detailed correlations suggesting why a set of players may have been better than another set of players.\n",
    "\n",
    "Initially, I assumed that mapping from collective player performances to team performance and then mapping from team performance to the plus-minus results would yield the best results. However, it turned out that while second mapping had a very high accuracy, the formed did not. Moreover, the mapping from individual player performance to team performance in large parts is trivial. For example, the number of team assists would simply be the sum of all player's assists. Instead of using two models, I decided to simply use a single model which maps directly from a set of individual player performances for both teams to a plus-minus score.\n",
    "\n",
    "A given player's performance data is simply averaged over a given period, such as the current season, and is then grouped with the average performances of other players."
   ]
  },
  {
   "cell_type": "markdown",
   "metadata": {},
   "source": [
    "**Limitations**\n",
    "\n",
    "We require a fixed number of players on each team, and we provide various team-sized models ranging from one player to 13 players."
   ]
  },
  {
   "cell_type": "markdown",
   "metadata": {},
   "source": [
    "**Data**\n",
    "\n",
    "As mentioned, the input data our model was trained on was a set of individual player performance statistics. The output data of our model was the associated games plus-minus result. To collect all this data, we used the python nba_api (https://github.com/swar/nba_api), which allows programmatic access to all statistics stored on NBA.com. For any game, we then collect more than 100 statistics (see models.py) for every player who played that game and the entire team's statistics and store them in a separate database. \n",
    "\n",
    "By stacking this player performance data into a single row of data for each game and then mapping it to the plus-minus score of the corresponding team, we build up our training dataset. For the whole team model with 13 players per team, we then have 26*105=2730 features for each game where the first 1365 features correspond to the first team's player features and the latter half corresponds to the other team's features. The plus-minus score is then always given with respect to the first team. This way, we can double the size of our dataset by using each game twice and switching the order of the two groups and the sign of the plus-minus score, as this is symmetric under a switch of teams."
   ]
  },
  {
   "cell_type": "markdown",
   "metadata": {},
   "source": [
    "**Model**\n",
    "\n",
    "We then train a regression model using the extreme gradient boosting library xgboost (https://github.com/dmlc/xgboost) and achieve remarkable accuracy of 98% in predicting which of the two teams won. Moreover, the root means square error in predicting the plus-minus score by which a team won or lost is approximately equal to 2, indicating that we can predict the number of points by which a team wins or loses with an error of roughly 2 points. As we decrease the number of players on each team, our model's rmse increases.\n"
   ]
  },
  {
   "cell_type": "code",
   "execution_count": 3,
   "metadata": {},
   "outputs": [],
   "source": [
    "model_13 = xgb.XGBRegressor()\n",
    "model_13.load_model('models/13_player_model_small.json')\n",
    "model_10 = xgb.XGBRegressor()\n",
    "model_10.load_model('models/10_player_model.json')\n",
    "model_5 = xgb.XGBRegressor()\n",
    "model_5.load_model('models/5_player_model.json')\n",
    "model_1 = xgb.XGBRegressor()\n",
    "model_1.load_model('models/1_player_model.json')"
   ]
  },
  {
   "cell_type": "code",
   "execution_count": 4,
   "metadata": {},
   "outputs": [
    {
     "name": "stdout",
     "output_type": "stream",
     "text": [
      "RMSE (13 players): 2.173604\n",
      "RMSE (10 players): 3.06293\n",
      "RMSE (5 plyaers): 4.549689\n",
      "RMSE (1 player): 6.275678\n"
     ]
    }
   ],
   "source": [
    "print(f'RMSE (13 players): {model_13.best_score}')\n",
    "print(f'RMSE (10 players): {model_10.best_score}')\n",
    "print(f'RMSE (5 plyaers): {model_5.best_score}')\n",
    "print(f'RMSE (1 player): {model_1.best_score}')"
   ]
  },
  {
   "cell_type": "markdown",
   "metadata": {},
   "source": [
    "Now that we have trained our models, which can predict the outcome of a matchup between two sets of player performances, we calculate the average performance data for each active player throughout a season and use this as our input data. Now let's build some cool apps using our model."
   ]
  },
  {
   "cell_type": "markdown",
   "metadata": {},
   "source": [
    "**Apps**"
   ]
  },
  {
   "cell_type": "markdown",
   "metadata": {},
   "source": [
    "First up, let's get all individual player performance data for the 2021-22 NBA season and calculate the average values for each player. As you can see from the dataset below, we have 542 different players with 105 average features each as our input data."
   ]
  },
  {
   "cell_type": "code",
   "execution_count": 4,
   "metadata": {},
   "outputs": [
    {
     "data": {
      "text/html": [
       "<div>\n",
       "<style scoped>\n",
       "    .dataframe tbody tr th:only-of-type {\n",
       "        vertical-align: middle;\n",
       "    }\n",
       "\n",
       "    .dataframe tbody tr th {\n",
       "        vertical-align: top;\n",
       "    }\n",
       "\n",
       "    .dataframe thead th {\n",
       "        text-align: right;\n",
       "    }\n",
       "</style>\n",
       "<table border=\"1\" class=\"dataframe\">\n",
       "  <thead>\n",
       "    <tr style=\"text-align: right;\">\n",
       "      <th></th>\n",
       "      <th>PLAYER_ID</th>\n",
       "      <th>PLAYER_NAME</th>\n",
       "      <th>TEAM_ABBREVIATION</th>\n",
       "      <th>PCT_FGA_2PT</th>\n",
       "      <th>PCT_AST_2PM</th>\n",
       "      <th>PCT_PTS_2PT</th>\n",
       "      <th>AST_PCT</th>\n",
       "      <th>PCT_FG3M</th>\n",
       "      <th>PCT_BLKA</th>\n",
       "      <th>PCT_BLK</th>\n",
       "      <th>...</th>\n",
       "      <th>E_PACE</th>\n",
       "      <th>AST_RATIO</th>\n",
       "      <th>DIST</th>\n",
       "      <th>AST_TOV</th>\n",
       "      <th>FTA_RATE</th>\n",
       "      <th>OPP_FTA_RATE</th>\n",
       "      <th>MIN</th>\n",
       "      <th>PACE_PER40</th>\n",
       "      <th>PACE</th>\n",
       "      <th>PIE</th>\n",
       "    </tr>\n",
       "  </thead>\n",
       "  <tbody>\n",
       "    <tr>\n",
       "      <th>0</th>\n",
       "      <td>2544</td>\n",
       "      <td>LeBron James</td>\n",
       "      <td>LAL</td>\n",
       "      <td>0.616889</td>\n",
       "      <td>0.396083</td>\n",
       "      <td>0.558722</td>\n",
       "      <td>0.274778</td>\n",
       "      <td>0.275194</td>\n",
       "      <td>0.227389</td>\n",
       "      <td>0.226778</td>\n",
       "      <td>...</td>\n",
       "      <td>100.016944</td>\n",
       "      <td>18.041667</td>\n",
       "      <td>2.320556</td>\n",
       "      <td>2.092778</td>\n",
       "      <td>0.235278</td>\n",
       "      <td>0.242222</td>\n",
       "      <td>35.941111</td>\n",
       "      <td>82.418889</td>\n",
       "      <td>98.901944</td>\n",
       "      <td>0.170389</td>\n",
       "    </tr>\n",
       "    <tr>\n",
       "      <th>1</th>\n",
       "      <td>2546</td>\n",
       "      <td>Carmelo Anthony</td>\n",
       "      <td>LAL</td>\n",
       "      <td>0.435622</td>\n",
       "      <td>0.405267</td>\n",
       "      <td>0.382422</td>\n",
       "      <td>0.062222</td>\n",
       "      <td>0.305289</td>\n",
       "      <td>0.122200</td>\n",
       "      <td>0.262600</td>\n",
       "      <td>...</td>\n",
       "      <td>102.498444</td>\n",
       "      <td>8.057778</td>\n",
       "      <td>1.736000</td>\n",
       "      <td>0.722222</td>\n",
       "      <td>0.285244</td>\n",
       "      <td>0.276111</td>\n",
       "      <td>25.529111</td>\n",
       "      <td>85.285556</td>\n",
       "      <td>102.343333</td>\n",
       "      <td>0.094756</td>\n",
       "    </tr>\n",
       "    <tr>\n",
       "      <th>2</th>\n",
       "      <td>2617</td>\n",
       "      <td>Udonis Haslem</td>\n",
       "      <td>MIA</td>\n",
       "      <td>0.149340</td>\n",
       "      <td>0.090000</td>\n",
       "      <td>0.131420</td>\n",
       "      <td>0.015160</td>\n",
       "      <td>0.010000</td>\n",
       "      <td>0.040000</td>\n",
       "      <td>0.000000</td>\n",
       "      <td>...</td>\n",
       "      <td>17.209600</td>\n",
       "      <td>1.008000</td>\n",
       "      <td>0.089600</td>\n",
       "      <td>0.040000</td>\n",
       "      <td>0.017300</td>\n",
       "      <td>0.078300</td>\n",
       "      <td>1.283800</td>\n",
       "      <td>15.179200</td>\n",
       "      <td>18.214600</td>\n",
       "      <td>0.017500</td>\n",
       "    </tr>\n",
       "    <tr>\n",
       "      <th>3</th>\n",
       "      <td>2730</td>\n",
       "      <td>Dwight Howard</td>\n",
       "      <td>LAL</td>\n",
       "      <td>0.729958</td>\n",
       "      <td>0.512563</td>\n",
       "      <td>0.465021</td>\n",
       "      <td>0.040104</td>\n",
       "      <td>0.046521</td>\n",
       "      <td>0.162500</td>\n",
       "      <td>0.295125</td>\n",
       "      <td>...</td>\n",
       "      <td>81.013542</td>\n",
       "      <td>5.902083</td>\n",
       "      <td>0.957500</td>\n",
       "      <td>0.201250</td>\n",
       "      <td>0.205646</td>\n",
       "      <td>0.222375</td>\n",
       "      <td>13.528750</td>\n",
       "      <td>66.718125</td>\n",
       "      <td>80.061250</td>\n",
       "      <td>0.086667</td>\n",
       "    </tr>\n",
       "    <tr>\n",
       "      <th>4</th>\n",
       "      <td>2738</td>\n",
       "      <td>Andre Iguodala</td>\n",
       "      <td>GSW</td>\n",
       "      <td>0.374920</td>\n",
       "      <td>0.326680</td>\n",
       "      <td>0.323320</td>\n",
       "      <td>0.222040</td>\n",
       "      <td>0.127960</td>\n",
       "      <td>0.025720</td>\n",
       "      <td>0.269960</td>\n",
       "      <td>...</td>\n",
       "      <td>89.253200</td>\n",
       "      <td>37.884000</td>\n",
       "      <td>1.170000</td>\n",
       "      <td>1.726400</td>\n",
       "      <td>0.187880</td>\n",
       "      <td>0.209920</td>\n",
       "      <td>17.071200</td>\n",
       "      <td>73.984000</td>\n",
       "      <td>88.778800</td>\n",
       "      <td>0.097840</td>\n",
       "    </tr>\n",
       "    <tr>\n",
       "      <th>...</th>\n",
       "      <td>...</td>\n",
       "      <td>...</td>\n",
       "      <td>...</td>\n",
       "      <td>...</td>\n",
       "      <td>...</td>\n",
       "      <td>...</td>\n",
       "      <td>...</td>\n",
       "      <td>...</td>\n",
       "      <td>...</td>\n",
       "      <td>...</td>\n",
       "      <td>...</td>\n",
       "      <td>...</td>\n",
       "      <td>...</td>\n",
       "      <td>...</td>\n",
       "      <td>...</td>\n",
       "      <td>...</td>\n",
       "      <td>...</td>\n",
       "      <td>...</td>\n",
       "      <td>...</td>\n",
       "      <td>...</td>\n",
       "      <td>...</td>\n",
       "    </tr>\n",
       "    <tr>\n",
       "      <th>630</th>\n",
       "      <td>1630691</td>\n",
       "      <td>Jamorko Pickett</td>\n",
       "      <td>DET</td>\n",
       "      <td>0.081600</td>\n",
       "      <td>0.100000</td>\n",
       "      <td>0.082500</td>\n",
       "      <td>0.013900</td>\n",
       "      <td>0.133300</td>\n",
       "      <td>0.025000</td>\n",
       "      <td>0.033350</td>\n",
       "      <td>...</td>\n",
       "      <td>44.572500</td>\n",
       "      <td>2.500000</td>\n",
       "      <td>0.343500</td>\n",
       "      <td>0.000000</td>\n",
       "      <td>0.163300</td>\n",
       "      <td>0.156000</td>\n",
       "      <td>4.388500</td>\n",
       "      <td>38.274500</td>\n",
       "      <td>45.929500</td>\n",
       "      <td>0.040750</td>\n",
       "    </tr>\n",
       "    <tr>\n",
       "      <th>631</th>\n",
       "      <td>1630692</td>\n",
       "      <td>Jordan Goodwin</td>\n",
       "      <td>WAS</td>\n",
       "      <td>0.250000</td>\n",
       "      <td>0.000000</td>\n",
       "      <td>0.000000</td>\n",
       "      <td>0.000000</td>\n",
       "      <td>0.000000</td>\n",
       "      <td>0.000000</td>\n",
       "      <td>0.000000</td>\n",
       "      <td>...</td>\n",
       "      <td>21.850000</td>\n",
       "      <td>0.000000</td>\n",
       "      <td>0.060000</td>\n",
       "      <td>0.000000</td>\n",
       "      <td>0.000000</td>\n",
       "      <td>0.041750</td>\n",
       "      <td>0.630000</td>\n",
       "      <td>15.697500</td>\n",
       "      <td>18.837500</td>\n",
       "      <td>-0.043500</td>\n",
       "    </tr>\n",
       "    <tr>\n",
       "      <th>632</th>\n",
       "      <td>1630693</td>\n",
       "      <td>Jaime Echenique</td>\n",
       "      <td>WAS</td>\n",
       "      <td>0.000000</td>\n",
       "      <td>0.000000</td>\n",
       "      <td>0.000000</td>\n",
       "      <td>0.000000</td>\n",
       "      <td>0.000000</td>\n",
       "      <td>0.000000</td>\n",
       "      <td>0.000000</td>\n",
       "      <td>...</td>\n",
       "      <td>0.000000</td>\n",
       "      <td>0.000000</td>\n",
       "      <td>0.000000</td>\n",
       "      <td>0.000000</td>\n",
       "      <td>0.000000</td>\n",
       "      <td>0.000000</td>\n",
       "      <td>0.000000</td>\n",
       "      <td>0.000000</td>\n",
       "      <td>0.000000</td>\n",
       "      <td>0.000000</td>\n",
       "    </tr>\n",
       "    <tr>\n",
       "      <th>633</th>\n",
       "      <td>1630695</td>\n",
       "      <td>Micah Potter</td>\n",
       "      <td>DET</td>\n",
       "      <td>0.250000</td>\n",
       "      <td>0.166750</td>\n",
       "      <td>0.187500</td>\n",
       "      <td>0.000000</td>\n",
       "      <td>0.000000</td>\n",
       "      <td>0.000000</td>\n",
       "      <td>0.000000</td>\n",
       "      <td>...</td>\n",
       "      <td>59.565000</td>\n",
       "      <td>0.000000</td>\n",
       "      <td>0.372500</td>\n",
       "      <td>0.000000</td>\n",
       "      <td>0.114250</td>\n",
       "      <td>0.062500</td>\n",
       "      <td>4.377500</td>\n",
       "      <td>46.822500</td>\n",
       "      <td>56.187500</td>\n",
       "      <td>0.054250</td>\n",
       "    </tr>\n",
       "    <tr>\n",
       "      <th>634</th>\n",
       "      <td>1630698</td>\n",
       "      <td>Kevin Pangos</td>\n",
       "      <td>CLE</td>\n",
       "      <td>0.115886</td>\n",
       "      <td>0.007143</td>\n",
       "      <td>0.036743</td>\n",
       "      <td>0.094629</td>\n",
       "      <td>0.012343</td>\n",
       "      <td>0.028571</td>\n",
       "      <td>0.000000</td>\n",
       "      <td>...</td>\n",
       "      <td>38.648286</td>\n",
       "      <td>10.625714</td>\n",
       "      <td>0.213429</td>\n",
       "      <td>0.371429</td>\n",
       "      <td>0.144086</td>\n",
       "      <td>0.221971</td>\n",
       "      <td>2.593429</td>\n",
       "      <td>35.169143</td>\n",
       "      <td>42.202857</td>\n",
       "      <td>0.024114</td>\n",
       "    </tr>\n",
       "  </tbody>\n",
       "</table>\n",
       "<p>542 rows × 108 columns</p>\n",
       "</div>"
      ],
      "text/plain": [
       "     PLAYER_ID      PLAYER_NAME TEAM_ABBREVIATION  PCT_FGA_2PT  PCT_AST_2PM  \\\n",
       "0         2544     LeBron James               LAL     0.616889     0.396083   \n",
       "1         2546  Carmelo Anthony               LAL     0.435622     0.405267   \n",
       "2         2617    Udonis Haslem               MIA     0.149340     0.090000   \n",
       "3         2730    Dwight Howard               LAL     0.729958     0.512563   \n",
       "4         2738   Andre Iguodala               GSW     0.374920     0.326680   \n",
       "..         ...              ...               ...          ...          ...   \n",
       "630    1630691  Jamorko Pickett               DET     0.081600     0.100000   \n",
       "631    1630692   Jordan Goodwin               WAS     0.250000     0.000000   \n",
       "632    1630693  Jaime Echenique               WAS     0.000000     0.000000   \n",
       "633    1630695     Micah Potter               DET     0.250000     0.166750   \n",
       "634    1630698     Kevin Pangos               CLE     0.115886     0.007143   \n",
       "\n",
       "     PCT_PTS_2PT   AST_PCT  PCT_FG3M  PCT_BLKA   PCT_BLK  ...      E_PACE  \\\n",
       "0       0.558722  0.274778  0.275194  0.227389  0.226778  ...  100.016944   \n",
       "1       0.382422  0.062222  0.305289  0.122200  0.262600  ...  102.498444   \n",
       "2       0.131420  0.015160  0.010000  0.040000  0.000000  ...   17.209600   \n",
       "3       0.465021  0.040104  0.046521  0.162500  0.295125  ...   81.013542   \n",
       "4       0.323320  0.222040  0.127960  0.025720  0.269960  ...   89.253200   \n",
       "..           ...       ...       ...       ...       ...  ...         ...   \n",
       "630     0.082500  0.013900  0.133300  0.025000  0.033350  ...   44.572500   \n",
       "631     0.000000  0.000000  0.000000  0.000000  0.000000  ...   21.850000   \n",
       "632     0.000000  0.000000  0.000000  0.000000  0.000000  ...    0.000000   \n",
       "633     0.187500  0.000000  0.000000  0.000000  0.000000  ...   59.565000   \n",
       "634     0.036743  0.094629  0.012343  0.028571  0.000000  ...   38.648286   \n",
       "\n",
       "     AST_RATIO      DIST   AST_TOV  FTA_RATE  OPP_FTA_RATE        MIN  \\\n",
       "0    18.041667  2.320556  2.092778  0.235278      0.242222  35.941111   \n",
       "1     8.057778  1.736000  0.722222  0.285244      0.276111  25.529111   \n",
       "2     1.008000  0.089600  0.040000  0.017300      0.078300   1.283800   \n",
       "3     5.902083  0.957500  0.201250  0.205646      0.222375  13.528750   \n",
       "4    37.884000  1.170000  1.726400  0.187880      0.209920  17.071200   \n",
       "..         ...       ...       ...       ...           ...        ...   \n",
       "630   2.500000  0.343500  0.000000  0.163300      0.156000   4.388500   \n",
       "631   0.000000  0.060000  0.000000  0.000000      0.041750   0.630000   \n",
       "632   0.000000  0.000000  0.000000  0.000000      0.000000   0.000000   \n",
       "633   0.000000  0.372500  0.000000  0.114250      0.062500   4.377500   \n",
       "634  10.625714  0.213429  0.371429  0.144086      0.221971   2.593429   \n",
       "\n",
       "     PACE_PER40        PACE       PIE  \n",
       "0     82.418889   98.901944  0.170389  \n",
       "1     85.285556  102.343333  0.094756  \n",
       "2     15.179200   18.214600  0.017500  \n",
       "3     66.718125   80.061250  0.086667  \n",
       "4     73.984000   88.778800  0.097840  \n",
       "..          ...         ...       ...  \n",
       "630   38.274500   45.929500  0.040750  \n",
       "631   15.697500   18.837500 -0.043500  \n",
       "632    0.000000    0.000000  0.000000  \n",
       "633   46.822500   56.187500  0.054250  \n",
       "634   35.169143   42.202857  0.024114  \n",
       "\n",
       "[542 rows x 108 columns]"
      ]
     },
     "execution_count": 4,
     "metadata": {},
     "output_type": "execute_result"
    }
   ],
   "source": [
    "data = pd.read_csv('data/22021_data.csv').set_index('_id').drop('GAME_ID',axis=1)\n",
    "average_data = get_average_player_performances(data)\n",
    "average_data"
   ]
  },
  {
   "cell_type": "markdown",
   "metadata": {},
   "source": [
    "**Matchup**\n",
    "\n",
    "Now we can use this data to simulate a game between two teams. Let's match up the Boston Celtics (BOS) and the Pheonix Suns (PHX) using a team size of 13 players per team."
   ]
  },
  {
   "cell_type": "code",
   "execution_count": 6,
   "metadata": {},
   "outputs": [
    {
     "name": "stdout",
     "output_type": "stream",
     "text": [
      "Plus Minus (BOS): 4.734989166259766\n",
      "Plus Minus (PHX): -0.42579782009124756\n"
     ]
    }
   ],
   "source": [
    "(bos_pm, phx_pm) = simulate_nba_matchup('BOS','PHX',average_data,model=model_13,team_size=13)\n",
    "print(f'Plus Minus (BOS): {bos_pm}')\n",
    "print(f'Plus Minus (PHX): {phx_pm}')"
   ]
  },
  {
   "cell_type": "markdown",
   "metadata": {},
   "source": [
    "Our model predicts that the Celtics will win by 4.73 points over the Suns when playing in Boston and that the Suns will lose by -0.43 points when playing in Pheonix. The winner of this matchup will therefore be the Boston Celtics.\n",
    "\n",
    "We can also match up imaginary teams and see who wins. As an example, we can randomly sample two sets of 13 players."
   ]
  },
  {
   "cell_type": "code",
   "execution_count": 7,
   "metadata": {},
   "outputs": [
    {
     "name": "stdout",
     "output_type": "stream",
     "text": [
      "Players (A): ['Caris LeVert', 'Langston Galloway', 'Tristan Thompson', 'Jordan Clarkson', 'Bruno Fernando', 'Taj Gibson', 'Dennis Schroder', 'Bam Adebayo', 'Wenyen Gabriel', 'Sam Merrill', 'Max Strus', 'Richaun Holmes', 'Jalen Smith']\n",
      "Players (B): ['OG Anunoby', 'Moses Brown', 'Mike Muscala', 'Rajon Rondo', 'Kevin Porter Jr.', 'Deni Avdija', 'DeMar DeRozan', 'Moritz Wagner', 'Jake Layman', 'Andre Drummond', 'R.J. Hampton', 'Jusuf Nurkic', 'Chaundee Brown Jr.']\n",
      "Plus Minus (A): -1.53811514377594\n",
      "Plus Minus (B): 1.096522569656372\n"
     ]
    }
   ],
   "source": [
    "team_a = average_data.sample(13)\n",
    "team_a_players = team_a.PLAYER_NAME.to_list()\n",
    "team_a_ids = team_a.PLAYER_ID.to_list()\n",
    "team_b = average_data[~average_data['PLAYER_ID'].isin(team_a_ids)].sample(13)\n",
    "team_b_players = team_b.PLAYER_NAME.to_list()\n",
    "team_b_ids = team_b.PLAYER_ID.to_list()\n",
    "(team_a_pm, team_b_pm) = simulate_arbitrary_matchup(team_a_ids, team_b_ids, average_data,model=model_13,team_size=13)\n",
    "print(f'Players (A): {team_a_players}')\n",
    "print(f'Players (B): {team_b_players}')\n",
    "print(f'Plus Minus (A): {team_a_pm}')\n",
    "print(f'Plus Minus (B): {team_b_pm}')"
   ]
  },
  {
   "cell_type": "markdown",
   "metadata": {},
   "source": [
    "**Regular Season Standings**\n",
    "\n",
    "Now that we can simulate any matchup let's simulate all possible matchups in the NBA and find out who the best current teams are."
   ]
  },
  {
   "cell_type": "code",
   "execution_count": 14,
   "metadata": {},
   "outputs": [
    {
     "name": "stderr",
     "output_type": "stream",
     "text": [
      "100%|██████████| 30/30 [00:17<00:00,  1.70it/s]"
     ]
    },
    {
     "name": "stdout",
     "output_type": "stream",
     "text": [
      "{'BOS': 1.0, 'UTA': 0.9655172413793104, 'PHX': 0.9310344827586207, 'GSW': 0.8620689655172413, 'CLE': 0.8620689655172413, 'MEM': 0.8275862068965517, 'MIA': 0.7586206896551724, 'BKN': 0.7586206896551724, 'ATL': 0.7241379310344828, 'MIL': 0.7241379310344828, 'SAS': 0.6896551724137931, 'MIN': 0.6206896551724138, 'DAL': 0.5862068965517241, 'PHI': 0.5517241379310345, 'DEN': 0.5172413793103449, 'CHA': 0.4827586206896552, 'TOR': 0.4482758620689655, 'CHI': 0.41379310344827586, 'NOP': 0.3448275862068966, 'LAC': 0.3103448275862069, 'POR': 0.3103448275862069, 'WAS': 0.3103448275862069, 'NYK': 0.27586206896551724, 'IND': 0.20689655172413793, 'HOU': 0.1724137931034483, 'SAC': 0.13793103448275862, 'OKC': 0.10344827586206896, 'LAL': 0.06896551724137931, 'ORL': 0.034482758620689655, 'DET': 0.0}\n"
     ]
    },
    {
     "name": "stderr",
     "output_type": "stream",
     "text": [
      "\n"
     ]
    }
   ],
   "source": [
    "regular_season_results = simulate_regular_season(average_data,model=model_13,team_size=13)\n",
    "print(regular_season_results)"
   ]
  },
  {
   "cell_type": "markdown",
   "metadata": {},
   "source": [
    "These win-loss results show that Boston is the best team in the NBA, winning against all other teams, while Utah and Pheonix are their strongest competition this year. On the other end, Detroit, Orlando, and the L.A. Lakers have the lowest win-to-loss ratios, with Detriot unable to win against any team. By comparing this with the actual standings of the current NBA season, we see a clear correlation indicating the model's predictive power."
   ]
  },
  {
   "cell_type": "markdown",
   "metadata": {},
   "source": [
    "**Tournament**\n",
    "\n"
   ]
  },
  {
   "cell_type": "markdown",
   "metadata": {},
   "source": [
    "One of our primary goals is to identify strong teams by combining different players. Therefore I designed an elimination tournament system similar to the playoffs. Initially, teams are randomly sampled from the player pool, and the team that wins the tournament then goes on to another tournament where new teams are sampled. Eventually, a team will emerge which remains unbeaten."
   ]
  },
  {
   "cell_type": "code",
   "execution_count": 12,
   "metadata": {},
   "outputs": [
    {
     "name": "stderr",
     "output_type": "stream",
     "text": [
      " 33%|███▎      | 1/3 [00:00<00:00,  4.46it/s]"
     ]
    },
    {
     "name": "stdout",
     "output_type": "stream",
     "text": [
      "Winner Team:  ['John Collins', 'Reggie Jackson', 'Derrick White', 'Devin Booker', 'Derrick White', 'Kemba Walker', 'JaMychal Green', 'Malachi Flynn', 'Luka Garza', 'Javonte Smart', 'Javonte Smart', 'Bol Bol', 'Mac McClung', 'Daulton Hommes']\n"
     ]
    },
    {
     "name": "stderr",
     "output_type": "stream",
     "text": [
      "100%|██████████| 3/3 [00:00<00:00,  4.51it/s]"
     ]
    },
    {
     "name": "stdout",
     "output_type": "stream",
     "text": [
      "Winner Team:  ['Scottie Barnes', 'Derrick White', 'Bobby Portis', 'Myles Turner', 'Robert Williams III', 'Derrick White', 'Jordan Clarkson', 'Javonte Green', 'Hassani Gravett', 'Landry Shamet', 'Trey Lyles', 'Trey Lyles', 'Bryn Forbes', 'Bryn Forbes', 'Timothe Luwawu-Cabarrot', 'RJ Nembhard Jr.']\n",
      "Winner Team:  ['Kevin Durant', \"D'Angelo Russell\", 'Marcus Smart', 'Kristaps Porzingis', 'Al Horford', 'Terance Mann', 'Kristaps Porzingis', 'Grayson Allen', 'Patrick Williams', 'Eric Bledsoe', 'Daniel Theis', 'Lamar Stevens', 'Daniel Theis', 'Chris Chiozza', 'Jaden Springer', 'Eric Bledsoe']\n"
     ]
    },
    {
     "name": "stderr",
     "output_type": "stream",
     "text": [
      "\n"
     ]
    }
   ],
   "source": [
    "winner_list = run_tournament(average_data, model=model_13,rounds=3,team_count=16,team_size=13)"
   ]
  },
  {
   "cell_type": "markdown",
   "metadata": {},
   "source": [
    "We can then test any individual team by matching it up against many randomly sampled teams and recording the win-loss statistics. Let us take the last team to win the tournament above."
   ]
  },
  {
   "cell_type": "code",
   "execution_count": 20,
   "metadata": {},
   "outputs": [
    {
     "name": "stderr",
     "output_type": "stream",
     "text": [
      "100%|██████████| 100/100 [00:01<00:00, 66.40it/s]"
     ]
    },
    {
     "name": "stdout",
     "output_type": "stream",
     "text": [
      "Win/Loss Ratio: 1.0\n"
     ]
    },
    {
     "name": "stderr",
     "output_type": "stream",
     "text": [
      "\n"
     ]
    }
   ],
   "source": [
    "win_loss_mean = test_team(winner_list[-1],average_data,model=model_13,team_size=13)\n",
    "print(f'Win/Loss Ratio: {win_loss_mean}')"
   ]
  },
  {
   "cell_type": "markdown",
   "metadata": {},
   "source": [
    "**Superteam Finder**"
   ]
  },
  {
   "cell_type": "markdown",
   "metadata": {},
   "source": [
    "Another way to identify a strong team would be to find a team that beats another team and then continue until a given team cannot be beaten by any arbitrary team."
   ]
  },
  {
   "cell_type": "code",
   "execution_count": 8,
   "metadata": {},
   "outputs": [
    {
     "name": "stderr",
     "output_type": "stream",
     "text": [
      "100%|██████████| 100/100 [00:01<00:00, 78.91it/s]\n"
     ]
    },
    {
     "name": "stdout",
     "output_type": "stream",
     "text": [
      "W/L:  0.95\n"
     ]
    },
    {
     "name": "stderr",
     "output_type": "stream",
     "text": [
      "100%|██████████| 100/100 [00:01<00:00, 77.12it/s]\n"
     ]
    },
    {
     "name": "stdout",
     "output_type": "stream",
     "text": [
      "W/L:  0.89\n"
     ]
    },
    {
     "name": "stderr",
     "output_type": "stream",
     "text": [
      "100%|██████████| 100/100 [00:01<00:00, 76.89it/s]\n"
     ]
    },
    {
     "name": "stdout",
     "output_type": "stream",
     "text": [
      "W/L:  0.99\n"
     ]
    },
    {
     "name": "stderr",
     "output_type": "stream",
     "text": [
      "100%|██████████| 100/100 [00:01<00:00, 70.97it/s]\n"
     ]
    },
    {
     "name": "stdout",
     "output_type": "stream",
     "text": [
      "W/L:  0.96\n"
     ]
    },
    {
     "name": "stderr",
     "output_type": "stream",
     "text": [
      "100%|██████████| 100/100 [00:01<00:00, 74.10it/s]"
     ]
    },
    {
     "name": "stdout",
     "output_type": "stream",
     "text": [
      "W/L:  1.0\n",
      "Super Team Found\n",
      "['Al-Farouq Aminu', 'Reggie Bullock', 'Jordan Clarkson', 'Domantas Sabonis', 'Derrick White', 'Keita Bates-Diop', 'Jalen Brunson', 'Terence Davis', 'Ty Jerome', 'Neemias Queta', 'Didi Louzada', 'Onyeka Okongwu', 'Duane Washington Jr.']\n"
     ]
    },
    {
     "name": "stderr",
     "output_type": "stream",
     "text": [
      "\n"
     ]
    }
   ],
   "source": [
    "super_team_ids = get_super_team(average_data, model=model_13,team_size=13,iterations=10, test_teams=100)\n",
    "print(average_data[average_data.PLAYER_ID.isin(super_team_ids)].PLAYER_NAME.drop_duplicates().to_list())"
   ]
  },
  {
   "cell_type": "markdown",
   "metadata": {},
   "source": [
    "Next, we will build a trade finder that compares a team's performance to its performance if it makes a player trade. By iteratively doing this and keeping track of the win-loss statistics for each potential trade, the best trade is found by maximizing the win-loss ratio. However, to build a realistic trade finder, we first need to calculate an approximate trade value for each player, as some players are worth more than others, and trades need to remain fair for both parties."
   ]
  },
  {
   "cell_type": "markdown",
   "metadata": {},
   "source": [
    "**Trade Value Calculation**"
   ]
  },
  {
   "cell_type": "markdown",
   "metadata": {},
   "source": [
    "We propose a straightforward calculation to rank all players in our player pool. Simply normalize all of our average data features overall players and then sum them for each player. Doing so, we get the following ranking."
   ]
  },
  {
   "cell_type": "code",
   "execution_count": 5,
   "metadata": {},
   "outputs": [
    {
     "data": {
      "text/html": [
       "<div>\n",
       "<style scoped>\n",
       "    .dataframe tbody tr th:only-of-type {\n",
       "        vertical-align: middle;\n",
       "    }\n",
       "\n",
       "    .dataframe tbody tr th {\n",
       "        vertical-align: top;\n",
       "    }\n",
       "\n",
       "    .dataframe thead th {\n",
       "        text-align: right;\n",
       "    }\n",
       "</style>\n",
       "<table border=\"1\" class=\"dataframe\">\n",
       "  <thead>\n",
       "    <tr style=\"text-align: right;\">\n",
       "      <th></th>\n",
       "      <th>PLAYER_ID</th>\n",
       "      <th>PLAYER_NAME</th>\n",
       "      <th>TEAM_ABBREVIATION</th>\n",
       "      <th>SCORE</th>\n",
       "    </tr>\n",
       "  </thead>\n",
       "  <tbody>\n",
       "    <tr>\n",
       "      <th>0</th>\n",
       "      <td>203999</td>\n",
       "      <td>Nikola Jokic</td>\n",
       "      <td>DEN</td>\n",
       "      <td>1.000000</td>\n",
       "    </tr>\n",
       "    <tr>\n",
       "      <th>1</th>\n",
       "      <td>1629029</td>\n",
       "      <td>Luka Doncic</td>\n",
       "      <td>DAL</td>\n",
       "      <td>0.960294</td>\n",
       "    </tr>\n",
       "    <tr>\n",
       "      <th>2</th>\n",
       "      <td>203507</td>\n",
       "      <td>Giannis Antetokounmpo</td>\n",
       "      <td>MIL</td>\n",
       "      <td>0.959715</td>\n",
       "    </tr>\n",
       "    <tr>\n",
       "      <th>3</th>\n",
       "      <td>203954</td>\n",
       "      <td>Joel Embiid</td>\n",
       "      <td>PHI</td>\n",
       "      <td>0.949833</td>\n",
       "    </tr>\n",
       "    <tr>\n",
       "      <th>4</th>\n",
       "      <td>2544</td>\n",
       "      <td>LeBron James</td>\n",
       "      <td>LAL</td>\n",
       "      <td>0.912045</td>\n",
       "    </tr>\n",
       "    <tr>\n",
       "      <th>5</th>\n",
       "      <td>201142</td>\n",
       "      <td>Kevin Durant</td>\n",
       "      <td>BKN</td>\n",
       "      <td>0.906500</td>\n",
       "    </tr>\n",
       "    <tr>\n",
       "      <th>6</th>\n",
       "      <td>1629027</td>\n",
       "      <td>Trae Young</td>\n",
       "      <td>ATL</td>\n",
       "      <td>0.901349</td>\n",
       "    </tr>\n",
       "    <tr>\n",
       "      <th>7</th>\n",
       "      <td>1626157</td>\n",
       "      <td>Karl-Anthony Towns</td>\n",
       "      <td>MIN</td>\n",
       "      <td>0.883402</td>\n",
       "    </tr>\n",
       "    <tr>\n",
       "      <th>8</th>\n",
       "      <td>1629630</td>\n",
       "      <td>Ja Morant</td>\n",
       "      <td>MEM</td>\n",
       "      <td>0.878764</td>\n",
       "    </tr>\n",
       "    <tr>\n",
       "      <th>9</th>\n",
       "      <td>201935</td>\n",
       "      <td>James Harden</td>\n",
       "      <td>PHI</td>\n",
       "      <td>0.878221</td>\n",
       "    </tr>\n",
       "  </tbody>\n",
       "</table>\n",
       "</div>"
      ],
      "text/plain": [
       "   PLAYER_ID            PLAYER_NAME TEAM_ABBREVIATION     SCORE\n",
       "0     203999           Nikola Jokic               DEN  1.000000\n",
       "1    1629029            Luka Doncic               DAL  0.960294\n",
       "2     203507  Giannis Antetokounmpo               MIL  0.959715\n",
       "3     203954            Joel Embiid               PHI  0.949833\n",
       "4       2544           LeBron James               LAL  0.912045\n",
       "5     201142           Kevin Durant               BKN  0.906500\n",
       "6    1629027             Trae Young               ATL  0.901349\n",
       "7    1626157     Karl-Anthony Towns               MIN  0.883402\n",
       "8    1629630              Ja Morant               MEM  0.878764\n",
       "9     201935           James Harden               PHI  0.878221"
      ]
     },
     "execution_count": 5,
     "metadata": {},
     "output_type": "execute_result"
    }
   ],
   "source": [
    "trade_value_df = get_score_df(average_data)\n",
    "trade_value_df.head(10)"
   ]
  },
  {
   "cell_type": "markdown",
   "metadata": {},
   "source": [
    "Interestingly, 3 out of the top 5 players (Jokic, Giannis, and Embiid) in our ranking are considered contenders for this season's MVP Award. By plotting the distribution of scores of all players, we see an interesting trend illustrating how difficult it is to be at the very top of our ranking."
   ]
  },
  {
   "cell_type": "code",
   "execution_count": 9,
   "metadata": {},
   "outputs": [
    {
     "data": {
      "text/plain": [
       "<AxesSubplot:>"
      ]
     },
     "execution_count": 9,
     "metadata": {},
     "output_type": "execute_result"
    },
    {
     "data": {
      "image/png": "[encoded data removed]",
      "text/plain": [
       "<Figure size 432x288 with 1 Axes>"
      ]
     },
     "metadata": {
      "needs_background": "light"
     },
     "output_type": "display_data"
    }
   ],
   "source": [
    "trade_value_df.SCORE.plot()"
   ]
  },
  {
   "cell_type": "markdown",
   "metadata": {},
   "source": [
    "**Trade Finder**"
   ]
  },
  {
   "cell_type": "markdown",
   "metadata": {},
   "source": [
    "We can use this ranking to build our trade finder by only allowing trades between players with similar rankings. Let's look at possible beneficial trades for the Charlotte Hornets by matching them against other NBA teams."
   ]
  },
  {
   "cell_type": "code",
   "execution_count": 8,
   "metadata": {},
   "outputs": [
    {
     "name": "stderr",
     "output_type": "stream",
     "text": [
      "100%|██████████| 10/10 [00:04<00:00,  2.31it/s]"
     ]
    },
    {
     "name": "stdout",
     "output_type": "stream",
     "text": [
      "Trade LaMelo Ball for Jaylen Brown to improve from 0.5 to 0.6 W/L\n"
     ]
    },
    {
     "name": "stderr",
     "output_type": "stream",
     "text": [
      "\n"
     ]
    }
   ],
   "source": [
    "nba_trade_finder('CHA', trade_value_df,average_data,model=model_13,team_size=13,samples=10)"
   ]
  },
  {
   "cell_type": "markdown",
   "metadata": {},
   "source": [
    "We can also do the same by matching up the team against a set of randomly selected teams instead of actual NBA teams."
   ]
  },
  {
   "cell_type": "markdown",
   "metadata": {},
   "source": [
    "**Building a Team around a given Player**"
   ]
  },
  {
   "cell_type": "markdown",
   "metadata": {},
   "source": [
    "Another possible application of our model would be to build a team around a given player. For example, lets build a team around Giannis Antetokounmpo by finding the team with highest win loss ratio. As of now have have imposed no restrictions on the total trade value of the team (similar to a salary cap)"
   ]
  },
  {
   "cell_type": "code",
   "execution_count": 5,
   "metadata": {},
   "outputs": [
    {
     "name": "stderr",
     "output_type": "stream",
     "text": [
      "100%|██████████| 50/50 [00:01<00:00, 25.91it/s]\n",
      "100%|██████████| 50/50 [00:02<00:00, 24.50it/s]\n",
      "100%|██████████| 50/50 [00:01<00:00, 25.50it/s]\n",
      "100%|██████████| 50/50 [00:01<00:00, 27.14it/s]\n",
      "100%|██████████| 50/50 [00:01<00:00, 26.38it/s]\n",
      "100%|██████████| 50/50 [00:02<00:00, 20.93it/s]\n",
      "100%|██████████| 50/50 [00:02<00:00, 16.82it/s]\n",
      "100%|██████████| 50/50 [00:01<00:00, 26.15it/s]\n",
      "100%|██████████| 50/50 [00:01<00:00, 25.72it/s]\n",
      "100%|██████████| 50/50 [00:01<00:00, 26.26it/s]\n",
      "100%|██████████| 10/10 [00:20<00:00,  2.08s/it]\n"
     ]
    }
   ],
   "source": [
    "(team, score)=build_team_around_player('Giannis Antetokounmpo',average_data, model=model_13,team_size=13,iterations=10,test_teams=50)"
   ]
  },
  {
   "cell_type": "code",
   "execution_count": 8,
   "metadata": {},
   "outputs": [
    {
     "name": "stdout",
     "output_type": "stream",
     "text": [
      "Team:  ['Giannis Antetokounmpo', 'Collin Sexton', 'Caris LeVert', 'Devin Booker', 'Derrick White', 'Steven Adams', 'Jarred Vanderbilt', 'Deandre Ayton', 'Malcolm Brogdon', 'Isaiah Hartenstein', 'Dewayne Dedmon', 'Neemias Queta', 'Udonis Haslem']\n",
      "W/L Ratio: 1.0\n"
     ]
    }
   ],
   "source": [
    "print('Team: ',team)\n",
    "print(f'W/L Ratio: {score}')"
   ]
  },
  {
   "cell_type": "markdown",
   "metadata": {},
   "source": [
    "Another possible application of our model would be to build a team around a given player. For example, let's create a team around Giannis Antetokounmpo by finding the team with the highest win-loss ratio. As of now have imposed no restrictions on the total trade value of the group of players (similar to a salary cap)"
   ]
  },
  {
   "cell_type": "code",
   "execution_count": 10,
   "metadata": {},
   "outputs": [
    {
     "name": "stderr",
     "output_type": "stream",
     "text": [
      "100%|██████████| 100/100 [00:02<00:00, 49.76it/s]\n"
     ]
    },
    {
     "name": "stdout",
     "output_type": "stream",
     "text": [
      "W/L:  0.8\n"
     ]
    },
    {
     "name": "stderr",
     "output_type": "stream",
     "text": [
      "100%|██████████| 100/100 [00:01<00:00, 50.92it/s]\n"
     ]
    },
    {
     "name": "stdout",
     "output_type": "stream",
     "text": [
      "W/L:  0.97\n"
     ]
    },
    {
     "name": "stderr",
     "output_type": "stream",
     "text": [
      "100%|██████████| 100/100 [00:01<00:00, 51.01it/s]"
     ]
    },
    {
     "name": "stdout",
     "output_type": "stream",
     "text": [
      "W/L:  1.0\n",
      "Super Team Found\n",
      "['Trae Young', 'Joel Embiid', 'Giannis Antetokounmpo', 'Rudy Gobert', 'Devin Booker', 'Wes Iwundu', 'Cameron Johnson', 'Cameron Payne', 'Hassan Whiteside', 'Vlatko Cancar', 'Moses Brown', 'Miles McBride', 'Tacko Fall']\n"
     ]
    },
    {
     "name": "stderr",
     "output_type": "stream",
     "text": [
      "\n"
     ]
    }
   ],
   "source": [
    "super_team_ids = get_super_team_for_player(average_data,'Giannis Antetokounmpo',model=model_13,team_size=13)\n",
    "print(average_data[average_data.PLAYER_ID.isin(super_team_ids)].sort_values('MIN', ascending=False).PLAYER_NAME.drop_duplicates().to_list())"
   ]
  },
  {
   "cell_type": "markdown",
   "metadata": {},
   "source": [
    "These are just some of the potential applications built using the models presented. Feel free to create more."
   ]
  },
  {
   "cell_type": "code",
   "execution_count": null,
   "metadata": {},
   "outputs": [],
   "source": []
  }
 ],
 "metadata": {
  "interpreter": {
   "hash": "c9450414bf23f3dd29b5b05a150ab805ddf54e50a477ec96525535ab209d16c9"
  },
  "kernelspec": {
   "display_name": "Python 3.9.11 ('main')",
   "language": "python",
   "name": "python3"
  },
  "language_info": {
   "codemirror_mode": {
    "name": "ipython",
    "version": 3
   },
   "file_extension": ".py",
   "mimetype": "text/x-python",
   "name": "python",
   "nbconvert_exporter": "python",
   "pygments_lexer": "ipython3",
   "version": "3.9.11"
  },
  "orig_nbformat": 4
 },
 "nbformat": 4,
 "nbformat_minor": 2
}
